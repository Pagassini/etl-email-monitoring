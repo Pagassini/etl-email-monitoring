{
 "cells": [
  {
   "cell_type": "code",
   "execution_count": 0,
   "metadata": {
    "application/vnd.databricks.v1+cell": {
     "cellMetadata": {
      "byteLimit": 2048000,
      "rowLimit": 10000
     },
     "inputWidgets": {},
     "nuid": "3f146828-924d-41b7-9996-bacf32f9325d",
     "showTitle": true,
     "tableResultSettingsMap": {},
     "title": "Imports Necessários"
    }
   },
   "outputs": [],
   "source": [
    "import os"
   ]
  },
  {
   "cell_type": "code",
   "execution_count": 0,
   "metadata": {
    "application/vnd.databricks.v1+cell": {
     "cellMetadata": {
      "byteLimit": 2048000,
      "rowLimit": 10000
     },
     "inputWidgets": {},
     "nuid": "c34647c4-970c-4f99-81ed-a95fee476b8e",
     "showTitle": true,
     "tableResultSettingsMap": {},
     "title": "Configuração de credenciais, autenticação e caminhos no Azure"
    }
   },
   "outputs": [],
   "source": [
    "# CREDENCIAIS DO AZURE\n",
    "AZURE_STORAGE_ACCOUNT = dbutils.secrets.get(scope=\"email\", key=\"storage_account\")\n",
    "CONTAINER_NAME = dbutils.secrets.get(scope=\"email\", key=\"container_name\")\n",
    "STORAGE_ACCOUNT_KEY = dbutils.secrets.get(scope=\"email\", key=\"account_key\")\n",
    "\n",
    "# CONFIGURANDO AUTENTICAÇÃO NO AZURE\n",
    "spark.conf.set(\n",
    "    f\"fs.azure.account.key.{AZURE_STORAGE_ACCOUNT}.dfs.core.windows.net\",\n",
    "    STORAGE_ACCOUNT_KEY\n",
    ")\n",
    "\n",
    "# CAMINHOS DAS PASTAS\n",
    "BLOB_BASE_PATH = f\"abfss://{CONTAINER_NAME}@{AZURE_STORAGE_ACCOUNT}.dfs.core.windows.net\"\n",
    "RAW_PATH = f\"{BLOB_BASE_PATH}/raw/\"\n",
    "DESSERIALIZED_PATH = f\"{BLOB_BASE_PATH}/raw_desserialized/\"\n",
    "BRONZE_PATH = f\"{BLOB_BASE_PATH}/bronze/\"\n",
    "SILVER_PATH = f\"{BLOB_BASE_PATH}/silver/\"\n",
    "GOLD_PATH = f\"{BLOB_BASE_PATH}/gold/\"\n",
    "\n",
    "# Outras configs\n",
    "LOG_LEVEL = \"INFO\""
   ]
  },
  {
   "cell_type": "code",
   "execution_count": 0,
   "metadata": {
    "application/vnd.databricks.v1+cell": {
     "cellMetadata": {
      "byteLimit": 2048000,
      "rowLimit": 10000
     },
     "inputWidgets": {},
     "nuid": "a945b608-22b5-4247-a497-e8fc861a6752",
     "showTitle": false,
     "tableResultSettingsMap": {},
     "title": ""
    }
   },
   "outputs": [],
   "source": [
    "dbutils.fs.ls(f\"{RAW_PATH}/2025/01\")"
   ]
  }
 ],
 "metadata": {
  "application/vnd.databricks.v1+notebook": {
   "computePreferences": null,
   "dashboards": [],
   "environmentMetadata": {
    "base_environment": "",
    "environment_version": "2"
   },
   "language": "python",
   "notebookMetadata": {
    "pythonIndentUnit": 4
   },
   "notebookName": "configs",
   "widgets": {}
  },
  "language_info": {
   "name": "python"
  }
 },
 "nbformat": 4,
 "nbformat_minor": 0
}
