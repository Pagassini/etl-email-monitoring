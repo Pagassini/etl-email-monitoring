{
 "cells": [
  {
   "cell_type": "code",
   "execution_count": 0,
   "metadata": {
    "application/vnd.databricks.v1+cell": {
     "cellMetadata": {
      "byteLimit": 2048000,
      "rowLimit": 10000
     },
     "inputWidgets": {},
     "nuid": "6a36348b-03b6-4296-b066-a8f7c6e6a7ad",
     "showTitle": false,
     "tableResultSettingsMap": {},
     "title": ""
    }
   },
   "outputs": [],
   "source": [
    "%run ../notebooks/configs"
   ]
  },
  {
   "cell_type": "code",
   "execution_count": 0,
   "metadata": {
    "application/vnd.databricks.v1+cell": {
     "cellMetadata": {
      "byteLimit": 2048000,
      "rowLimit": 10000
     },
     "inputWidgets": {},
     "nuid": "1bb6e6f1-8026-4cdc-8985-507fbf981436",
     "showTitle": true,
     "tableResultSettingsMap": {},
     "title": "Imports Necessários"
    }
   },
   "outputs": [],
   "source": [
    "import os\n",
    "import base64\n",
    "import email\n",
    "from email import policy\n",
    "from email.parser import BytesParser"
   ]
  },
  {
   "cell_type": "code",
   "execution_count": 0,
   "metadata": {
    "application/vnd.databricks.v1+cell": {
     "cellMetadata": {
      "byteLimit": 2048000,
      "rowLimit": 10000
     },
     "inputWidgets": {},
     "nuid": "143b6a61-620c-479b-b4e5-1973e17b609d",
     "showTitle": true,
     "tableResultSettingsMap": {},
     "title": "Configuração dos caminhos"
    }
   },
   "outputs": [],
   "source": [
    "email_directory = f\"{RAW_PATH}2025/01\"\n",
    "output_directory = f\"{DESSERIALIZED_PATH}2025/01\"\n",
    "tmp_directory = \"/dbfs/tmp/\"\n",
    "\n",
    "os.makedirs(tmp_directory, exist_ok=True)\n",
    "os.makedirs(output_directory, exist_ok=True)"
   ]
  },
  {
   "cell_type": "code",
   "execution_count": 0,
   "metadata": {
    "application/vnd.databricks.v1+cell": {
     "cellMetadata": {
      "byteLimit": 2048000,
      "rowLimit": 10000
     },
     "inputWidgets": {},
     "nuid": "cff4ce52-29f2-4a8e-bc4f-3ab3cec16109",
     "showTitle": false,
     "tableResultSettingsMap": {},
     "title": ""
    }
   },
   "outputs": [],
   "source": [
    "def decode_header_safe(header_value):\n",
    "    \"\"\"Decodifica um cabeçalho de e-mail com fallback seguro.\"\"\"\n",
    "    if not header_value:\n",
    "        return \"Desconhecido\"\n",
    "    \n",
    "    decoded_parts = email.header.decode_header(header_value)\n",
    "    result = []\n",
    "    \n",
    "    for part, encoding in decoded_parts:\n",
    "        try:\n",
    "            result.append(part.decode(encoding) if isinstance(part, bytes) and encoding else part.decode(\"utf-8\", errors=\"ignore\"))\n",
    "        except (AttributeError, LookupError):\n",
    "            result.append(str(part))\n",
    "    \n",
    "    return \" \".join(result)"
   ]
  },
  {
   "cell_type": "code",
   "execution_count": 0,
   "metadata": {
    "application/vnd.databricks.v1+cell": {
     "cellMetadata": {
      "byteLimit": 2048000,
      "rowLimit": 10000
     },
     "inputWidgets": {},
     "nuid": "ba9f2e8b-95e9-47c5-98a8-2e03dee3d9ff",
     "showTitle": false,
     "tableResultSettingsMap": {},
     "title": ""
    }
   },
   "outputs": [],
   "source": [
    "def process_email(file_path, output_directory):\n",
    "    \"\"\"Processa um e-mail e salva um arquivo limpo\"\"\"\n",
    "    with open(file_path, \"rb\") as f:\n",
    "        msg = BytesParser(policy=policy.default).parse(f)\n",
    "\n",
    "    subject = decode_header_safe(msg[\"subject\"])\n",
    "    from_email = decode_header_safe(msg[\"from\"])\n",
    "    to_email = decode_header_safe(msg[\"to\"])\n",
    "    date = decode_header_safe(msg[\"date\"])\n",
    "    content_type = msg.get_content_type()\n",
    "\n",
    "    email_body = \"\"\n",
    "    attachments = []\n",
    "\n",
    "    if msg.is_multipart():\n",
    "        for part in msg.walk():\n",
    "            content_disposition = str(part.get(\"Content-Disposition\") or \"\").lower()\n",
    "            if \"attachment\" in content_disposition:\n",
    "                filename = decode_header_safe(part.get_filename())\n",
    "                attachments.append(filename)\n",
    "            elif part.get_content_type() == \"text/plain\" and \"attachment\" not in content_disposition:\n",
    "                payload = part.get_payload(decode=True)\n",
    "                if payload:\n",
    "                    email_body += payload.decode(part.get_content_charset() or \"utf-8\", errors=\"ignore\") + \"\\n\"\n",
    "    else:\n",
    "        payload = msg.get_payload(decode=True)\n",
    "        if payload:\n",
    "            email_body = payload.decode(msg.get_content_charset() or \"utf-8\", errors=\"ignore\")\n",
    "\n",
    "    # Corrige a extensão do arquivo processado\n",
    "    base_name, _ = os.path.splitext(os.path.basename(file_path))\n",
    "    clean_filename = os.path.join(output_directory, f\"{base_name}.txt\")\n",
    "\n",
    "    with open(clean_filename, \"w\", encoding=\"utf-8\") as f:\n",
    "        f.write(email_body.strip())  # Escreve o corpo primeiro\n",
    "        f.write(\"\\n\\n\")  # Separador\n",
    "        f.write(f\"--- Metadados ---\\n\")\n",
    "        f.write(f\"Subject: {subject}\\n\")\n",
    "        f.write(f\"From: {from_email}\\n\")\n",
    "        f.write(f\"To: {to_email}\\n\")\n",
    "        f.write(f\"Date: {date}\\n\")\n",
    "        f.write(f\"Content-Type: {content_type}\\n\")\n",
    "        f.write(f\"Attachments: {', '.join(attachments) if attachments else 'Nenhum'}\\n\")\n",
    "\n",
    "    print(f\"Processed: {file_path} → {clean_filename}\")\n",
    "\n",
    "    return clean_filename  # Retorna o caminho do arquivo processado\n"
   ]
  },
  {
   "cell_type": "code",
   "execution_count": 0,
   "metadata": {
    "application/vnd.databricks.v1+cell": {
     "cellMetadata": {
      "byteLimit": 2048000,
      "rowLimit": 10000
     },
     "inputWidgets": {},
     "nuid": "92cb980b-7785-4397-b9ab-3a293bfd455a",
     "showTitle": false,
     "tableResultSettingsMap": {},
     "title": ""
    }
   },
   "outputs": [],
   "source": [
    "# **Passo 1: Listar e-mails no Azure**\n",
    "files = dbutils.fs.ls(email_directory)\n",
    "\n",
    "# **Passo 2: Processar os arquivos**\n",
    "for file_info in files:\n",
    "    azure_path = file_info.path  # Caminho no Blob Storage\n",
    "    local_file = os.path.join(tmp_directory, os.path.basename(azure_path))\n",
    "\n",
    "    # Baixar o arquivo\n",
    "    dbutils.fs.cp(azure_path, f\"file:{local_file}\")\n",
    "\n",
    "    # Processar o e-mail\n",
    "    clean_filename = process_email(local_file, tmp_directory)\n",
    "\n",
    "    # **Corrige o caminho para upload**\n",
    "    dbutils.fs.cp(clean_filename.replace(\"/dbfs\", \"\"), f\"{DESSERIALIZED_PATH}2025/01/\")\n",
    "\n",
    "print(\"✅ Processamento concluído!\")"
   ]
  }
 ],
 "metadata": {
  "application/vnd.databricks.v1+notebook": {
   "computePreferences": null,
   "dashboards": [],
   "environmentMetadata": {
    "base_environment": "",
    "environment_version": "2"
   },
   "language": "python",
   "notebookMetadata": {
    "pythonIndentUnit": 4
   },
   "notebookName": "email_desserialization",
   "widgets": {}
  },
  "language_info": {
   "name": "python"
  }
 },
 "nbformat": 4,
 "nbformat_minor": 0
}
