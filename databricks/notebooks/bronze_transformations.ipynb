{
 "cells": [
  {
   "cell_type": "code",
   "execution_count": 0,
   "metadata": {
    "application/vnd.databricks.v1+cell": {
     "cellMetadata": {
      "byteLimit": 2048000,
      "rowLimit": 10000
     },
     "inputWidgets": {},
     "nuid": "37ae342f-921b-4073-965c-7eedd70a186c",
     "showTitle": true,
     "tableResultSettingsMap": {},
     "title": "Rodando o notebook de configuração"
    }
   },
   "outputs": [],
   "source": [
    "%run ../notebooks/configs"
   ]
  },
  {
   "cell_type": "code",
   "execution_count": 0,
   "metadata": {
    "application/vnd.databricks.v1+cell": {
     "cellMetadata": {
      "byteLimit": 2048000,
      "rowLimit": 10000
     },
     "inputWidgets": {},
     "nuid": "b752c638-27dc-4bbc-a854-212dd7ba47ba",
     "showTitle": true,
     "tableResultSettingsMap": {},
     "title": "Rodando o notebook de utilitários"
    }
   },
   "outputs": [],
   "source": [
    "%run ../notebooks/utils"
   ]
  },
  {
   "cell_type": "code",
   "execution_count": 0,
   "metadata": {
    "application/vnd.databricks.v1+cell": {
     "cellMetadata": {
      "byteLimit": 2048000,
      "rowLimit": 10000
     },
     "inputWidgets": {},
     "nuid": "23e1337c-e5ec-400d-94c2-34e12fde7454",
     "showTitle": true,
     "tableResultSettingsMap": {},
     "title": "Imports necessários"
    }
   },
   "outputs": [],
   "source": [
    "import sys\n",
    "from pyspark.sql import SparkSession"
   ]
  },
  {
   "cell_type": "code",
   "execution_count": 0,
   "metadata": {
    "application/vnd.databricks.v1+cell": {
     "cellMetadata": {
      "byteLimit": 2048000,
      "rowLimit": 10000
     },
     "inputWidgets": {},
     "nuid": "766f3efc-fd6e-406d-afda-0db2f201b27d",
     "showTitle": true,
     "tableResultSettingsMap": {},
     "title": "Transformação dos arquivos brutos para a camada Bronze"
    }
   },
   "outputs": [],
   "source": [
    "spark = SparkSession.builder.appName(\"Bronze Email Transformations\").getOrCreate()\n",
    "\n",
    "raw_files = f\"{RAW_PATH}/2025/01/1735790793.559156_1.txt\"\n",
    "\n",
    "bronze_df = spark.read.format(\"text\").load(raw_files)\n",
    "display(bronze_df)"
   ]
  }
 ],
 "metadata": {
  "application/vnd.databricks.v1+notebook": {
   "computePreferences": null,
   "dashboards": [],
   "environmentMetadata": {
    "base_environment": "",
    "environment_version": "2"
   },
   "language": "python",
   "notebookMetadata": {
    "pythonIndentUnit": 4
   },
   "notebookName": "bronze_transformations",
   "widgets": {}
  },
  "language_info": {
   "name": "python"
  }
 },
 "nbformat": 4,
 "nbformat_minor": 0
}
